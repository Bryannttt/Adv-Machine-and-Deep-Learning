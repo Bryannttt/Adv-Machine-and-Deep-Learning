{
 "cells": [
  {
   "cell_type": "code",
   "execution_count": 68,
   "id": "0fac7f45",
   "metadata": {},
   "outputs": [],
   "source": [
    "import PIL\n",
    "import os\n",
    "import os.path\n",
    "from PIL import Image\n",
    "\n",
    "f = r'C:\\Users\\hookg\\Desktop\\Scraping\\Google-Image-Scraper-master\\photos\\Pokemon avalugg'\n",
    "for file in os.listdir(f):\n",
    "    f_img = f+\"/\"+file\n",
    "    img = Image.open(f_img)\n",
    "    img = img.resize((120,120))\n",
    "    img.save(f_img)"
   ]
  },
  {
   "cell_type": "code",
   "execution_count": 69,
   "id": "6547ee92",
   "metadata": {},
   "outputs": [],
   "source": [
    "import os\n",
    "from PIL import Image\n",
    "\n",
    "root_dir = r'C:\\Users\\hookg\\Desktop\\Scraping\\Google-Image-Scraper-master\\photos'\n",
    "resize_size = (120, 120)\n",
    "\n",
    "# Iterate through each subdirectory in the root directory\n",
    "for dirpath, dirnames, filenames in os.walk(root_dir):\n",
    "    # Iterate through each file in the current directory\n",
    "    for filename in filenames:\n",
    "        # Check if the file is an image\n",
    "        if filename.endswith('.jpg') or filename.endswith('.jpeg') or filename.endswith('.png'):\n",
    "            # Construct the full path to the image file\n",
    "            img_path = os.path.join(dirpath, filename)\n",
    "            # Open the image and resize it\n",
    "            with Image.open(img_path) as img:\n",
    "                resized_img = img.resize(resize_size)\n",
    "                # Save the resized image back to the same file\n",
    "                resized_img.save(img_path)\n"
   ]
  },
  {
   "cell_type": "code",
   "execution_count": 70,
   "id": "beb1a096",
   "metadata": {},
   "outputs": [],
   "source": [
    "import os\n",
    "\n",
    "main_dir = r'C:\\Users\\hookg\\Desktop\\Scraping\\Google-Image-Scraper-master\\photos'\n",
    "\n",
    "# Iterate through each directory in the main directory\n",
    "for folder_name in os.listdir(main_dir):\n",
    "    # Get the full path to the directory\n",
    "    folder_path = os.path.join(main_dir, folder_name)\n",
    "    # Check if the folder is actually a directory (not a file)\n",
    "    if os.path.isdir(folder_path):\n",
    "        # Split the folder name into its parts, separated by \" \"\n",
    "        folder_parts = folder_name.split(\" \")\n",
    "        # Check if the folder name has at least two parts\n",
    "        if len(folder_parts) >= 2:\n",
    "            # Construct the new folder name by joining all parts except the first\n",
    "            new_folder_name = \" \".join(folder_parts[1:])\n",
    "            # Construct the full path to the new folder\n",
    "            new_folder_path = os.path.join(main_dir, new_folder_name)\n",
    "            # Rename the folder\n",
    "            os.rename(folder_path, new_folder_path)\n"
   ]
  },
  {
   "cell_type": "code",
   "execution_count": null,
   "id": "1e3f7f88",
   "metadata": {},
   "outputs": [],
   "source": []
  }
 ],
 "metadata": {
  "kernelspec": {
   "display_name": "Python 3 (ipykernel)",
   "language": "python",
   "name": "python3"
  },
  "language_info": {
   "codemirror_mode": {
    "name": "ipython",
    "version": 3
   },
   "file_extension": ".py",
   "mimetype": "text/x-python",
   "name": "python",
   "nbconvert_exporter": "python",
   "pygments_lexer": "ipython3",
   "version": "3.9.12"
  }
 },
 "nbformat": 4,
 "nbformat_minor": 5
}
