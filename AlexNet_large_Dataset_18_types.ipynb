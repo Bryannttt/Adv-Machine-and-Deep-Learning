{
  "cells": [
    {
      "cell_type": "code",
      "execution_count": null,
      "id": "c23e29c8",
      "metadata": {
        "id": "c23e29c8"
      },
      "outputs": [],
      "source": [
        "import os, csv\n",
        "import numpy as np\n",
        "import matplotlib.image as mpimg\n",
        "import matplotlib.pyplot as plt\n",
        "from sklearn.model_selection import train_test_split\n",
        "from sklearn.neural_network import MLPClassifier\n",
        "from sklearn.model_selection import cross_val_score\n",
        "from sklearn.metrics import accuracy_score\n",
        "from keras.models import Sequential\n",
        "from keras.layers import Dense, Activation, Conv2D, MaxPooling2D, Flatten, BatchNormalization, Dropout\n",
        "from keras.utils import np_utils\n",
        "from PIL import Image\n",
        "import tensorflow as tf\n",
        "from tqdm import tqdm\n",
        "import pandas as pd"
      ]
    },
    {
      "cell_type": "code",
      "source": [
        "# from google.colab import drive\n",
        "# drive.mount('/content/Mydrive')\n"
      ],
      "metadata": {
        "id": "khnILJU-DCps"
      },
      "execution_count": null,
      "outputs": [],
      "id": "khnILJU-DCps"
    },
    {
      "cell_type": "code",
      "source": [
        "#!unzip \"/content/Mydrive/MyDrive/Scraped-Image-Dataset.zip\" -d \"/content\""
      ],
      "metadata": {
        "id": "WPfyInXrNE6n"
      },
      "id": "WPfyInXrNE6n",
      "execution_count": null,
      "outputs": []
    },
    {
      "cell_type": "code",
      "execution_count": null,
      "id": "3045d461",
      "metadata": {
        "id": "3045d461"
      },
      "outputs": [],
      "source": [
        "type_mapping = {} # pokemon type (string) => pokemon type (integer)\n",
        "type_mapping_reversed = {} # pokemon type (integer) => pokemon type (string)\n",
        "pokemon_type_mapping = {} # pokemon name => pokemon type1 (integer)\n",
        "\n",
        "types = ['Grass', 'Poison', 'Fire', 'Flying', 'Water', 'Bug', 'Normal', 'Electric', 'Ground', 'Fairy', 'Fighting', 'Psychic', 'Rock', 'Steel', 'Ice', 'Ghost', 'Dragon', 'Dark']\n",
        "#'Grass', 'Poison', 'Fire', 'Flying', 'Water', 'Bug', 'Normal', 'Electric', 'Ground', 'Fairy', 'Fighting', 'Psychic', 'Rock', 'Steel', 'Ice', 'Ghost', 'Dragon', 'Dark'\n",
        "\n",
        "i = 0\n",
        "with open('/content/Mydrive/MyDrive/pokemon.csv', newline='') as csvfile:\n",
        "    reader = csv.reader(csvfile)\n",
        "    next(reader, None) # skip header\n",
        "    for row in reader:\n",
        "        if row[1] in types or (len(row) > 2 and row[2] in types):\n",
        "            if row[1] in types:\n",
        "                if row[1] not in type_mapping:\n",
        "                    type_mapping[row[1]] = i\n",
        "                    type_mapping_reversed[i] = row[1]\n",
        "                    i += 1\n",
        "                pokemon_type_mapping[row[0]] = type_mapping[row[1]]\n",
        "            if len(row) > 2 and row[2] in types:\n",
        "                if row[2] not in type_mapping:\n",
        "                    type_mapping[row[2]] = i\n",
        "                    type_mapping_reversed[i] = row[2]\n",
        "                    i += 1\n",
        "                pokemon_type_mapping[row[0]] = type_mapping[row[2]]\n"
      ]
    },
    {
      "cell_type": "code",
      "execution_count": null,
      "id": "7a992365",
      "metadata": {
        "colab": {
          "base_uri": "https://localhost:8080/",
          "height": 157
        },
        "id": "7a992365",
        "outputId": "3128bbc1-0fcd-40a9-8ce8-fa5c341aacbc"
      },
      "outputs": [
        {
          "output_type": "execute_result",
          "data": {
            "text/plain": [
              "'\\n# original jpgs are (120 x 120 x 3) while original pngs are (120 x 120 x 4)\\n# change all pngs so that they are (120 x 120 x 3) and convert to jpg\\n# probably better to convert png -> jpg rather than jpg -> png\\n# because removing the alpha channel doesn\\'t remove info (png -> jpg)\\n# but adding the alpha channel adds unnecessary info (jpg -> png)\\n\\ni = 0\\nfor filename in os.listdir(\\'Downloads/archive1/images/images/\\'):\\n    if filename.endswith(\".png\"):\\n        im = Image.open(f\\'Downloads/archive1/images/images/{filename}\\').convert(\\'RGBA\\')\\n        pokemon_name = filename[:-4]\\n        background = Image.new(\"RGB\", im.size, (255, 255, 255))\\n        background.paste(im, mask=im.split()[-1])\\n        name=f\\'Downloads/archive1/images/images/{pokemon_name}.jpg\\'\\n        background.save(name, \\'JPEG\\')\\n        os.remove(f\\'Downloads/archive1/images/images/{filename}\\') # delete original png image\\n        i += 1\\n\\nprint(f\\'{i} images converted\\')\\n'"
            ],
            "application/vnd.google.colaboratory.intrinsic+json": {
              "type": "string"
            }
          },
          "metadata": {},
          "execution_count": 5
        }
      ],
      "source": [
        "'''\n",
        "# original jpgs are (120 x 120 x 3) while original pngs are (120 x 120 x 4)\n",
        "# change all pngs so that they are (120 x 120 x 3) and convert to jpg\n",
        "# probably better to convert png -> jpg rather than jpg -> png\n",
        "# because removing the alpha channel doesn't remove info (png -> jpg)\n",
        "# but adding the alpha channel adds unnecessary info (jpg -> png)\n",
        "\n",
        "i = 0\n",
        "for filename in os.listdir('Downloads/archive1/images/images/'):\n",
        "    if filename.endswith(\".png\"):\n",
        "        im = Image.open(f'Downloads/archive1/images/images/{filename}').convert('RGBA')\n",
        "        pokemon_name = filename[:-4]\n",
        "        background = Image.new(\"RGB\", im.size, (255, 255, 255))\n",
        "        background.paste(im, mask=im.split()[-1])\n",
        "        name=f'Downloads/archive1/images/images/{pokemon_name}.jpg'\n",
        "        background.save(name, 'JPEG')\n",
        "        os.remove(f'Downloads/archive1/images/images/{filename}') # delete original png image\n",
        "        i += 1\n",
        "\n",
        "print(f'{i} images converted')\n",
        "'''"
      ]
    },
    {
      "cell_type": "code",
      "execution_count": null,
      "id": "b1c735f0",
      "metadata": {
        "colab": {
          "base_uri": "https://localhost:8080/",
          "height": 87
        },
        "id": "b1c735f0",
        "outputId": "c0e08aa4-660d-43b1-d5f1-d62819819230"
      },
      "outputs": [
        {
          "output_type": "execute_result",
          "data": {
            "text/plain": [
              "'\\ni = 0\\nfor filename in os.listdir(\\'Downloads/archive1/images/images/\\'):\\n    if filename.endswith(\".jpg\"):\\n        im = Image.open(f\\'Downloads/archive1/images/images/{filename}\\')\\n        pokemon_name = filename[:-4]\\n        new_image = im.resize((227, 227))\\n        new_image.save(f\\'Downloads/archive1/images/images/{pokemon_name}.jpg\\', \\'JPEG\\')\\n        i += 1\\n'"
            ],
            "application/vnd.google.colaboratory.intrinsic+json": {
              "type": "string"
            }
          },
          "metadata": {},
          "execution_count": 6
        }
      ],
      "source": [
        "'''\n",
        "i = 0\n",
        "for filename in os.listdir('Downloads/archive1/images/images/'):\n",
        "    if filename.endswith(\".jpg\"):\n",
        "        im = Image.open(f'Downloads/archive1/images/images/{filename}')\n",
        "        pokemon_name = filename[:-4]\n",
        "        new_image = im.resize((227, 227))\n",
        "        new_image.save(f'Downloads/archive1/images/images/{pokemon_name}.jpg', 'JPEG')\n",
        "        i += 1\n",
        "'''        "
      ]
    },
    {
      "cell_type": "code",
      "execution_count": null,
      "id": "aa336108",
      "metadata": {
        "colab": {
          "base_uri": "https://localhost:8080/"
        },
        "id": "aa336108",
        "outputId": "321d7a04-769c-413d-accd-78760908fe2f"
      },
      "outputs": [
        {
          "output_type": "stream",
          "name": "stderr",
          "text": [
            "100%|██████████| 808/808 [02:27<00:00,  5.46it/s]\n"
          ]
        }
      ],
      "source": [
        "# feature matrix will have 43200 columns\n",
        "directory = '/content/Scraped-Image-Dataset'\n",
        "X = []\n",
        "y = []\n",
        "z = []\n",
        "\n",
        "for pokemon_name in tqdm(pokemon_type_mapping.keys()):\n",
        "#             print('Loading images for ', pokemon_name)\n",
        "    for image_path in os.listdir(os.path.join(directory,pokemon_name)):\n",
        "#                 i = mpimg.imread(f'images/{pokemon_name}.jpg\n",
        "        i = Image.open(os.path.join(directory,pokemon_name,image_path))  \n",
        "#                 i = mpimg.imread(os.path.join(directory,pokemon_name,image_path))\n",
        "        if np.array(i).shape != (227,227, 3):\n",
        "#                     print('resizing and converting image', image_path, np.array(i).shape)\n",
        "            i = i.convert('RGB')\n",
        "            i = i.resize((227,227))\n",
        "                \n",
        "        i = np.array(i)\n",
        "                \n",
        "        X.append(i)\n",
        "        y.append(pokemon_type_mapping[pokemon_name])\n",
        "        z.append(image_path)"
      ]
    },
    {
      "cell_type": "code",
      "execution_count": null,
      "id": "ce423ece",
      "metadata": {
        "id": "ce423ece"
      },
      "outputs": [],
      "source": [
        "X_train, X_test, y_train, y_test, z_train, z_test = train_test_split(X, y, z, test_size=0.20, random_state=5)\n",
        "\n",
        "y_train = np_utils.to_categorical(y_train, len(types))\n",
        "y_test = np_utils.to_categorical(y_test, len(types))\n",
        "\n",
        "# convert to numpy arrays so keras won't complain\n",
        "X_train = np.array(X_train) / 255\n",
        "X_test = np.array(X_test) / 255\n",
        "y_train = np.array(y_train)\n",
        "y_test = np.array(y_test)"
      ]
    },
    {
      "cell_type": "code",
      "execution_count": null,
      "id": "1e24f57c",
      "metadata": {
        "id": "1e24f57c"
      },
      "outputs": [],
      "source": [
        "# 1 Hidden Layer with 30 neurons:\n",
        "# my_ANN = MLPClassifier(hidden_layer_sizes=(30,), activation='logistic', \n",
        "                     #  solver='adam', alpha=1, random_state=1, \n",
        "                     #  learning_rate_init=0.02, verbose=True, tol=0.0001)"
      ]
    },
    {
      "cell_type": "code",
      "execution_count": null,
      "id": "b2184386",
      "metadata": {
        "id": "b2184386"
      },
      "outputs": [],
      "source": [
        "# CV:\n",
        "# accuracy_list = cross_val_score(my_ANN, X_train, y_train, cv=10, scoring='accuracy')\n",
        "\n",
        "# print('\\n\\n','accuracy: ',accuracy_list)"
      ]
    },
    {
      "cell_type": "code",
      "execution_count": null,
      "id": "5d7ec6e2",
      "metadata": {
        "id": "5d7ec6e2"
      },
      "outputs": [],
      "source": [
        "# Alexnet Model\n",
        "# Had to resize images to at least 227x227\n",
        "model = Sequential()\n",
        "model.add(Conv2D(96, kernel_size=(11,11), strides=(4,4), padding=\"valid\", activation=\"relu\", input_shape=(227, 227, 3)))\n",
        "model.add(MaxPooling2D(pool_size=(3,3),strides=(2,2)))\n",
        "model.add(BatchNormalization())\n",
        "model.add(Conv2D(256,kernel_size=(5,5),strides=(1,1),padding=\"valid\",activation=\"relu\"))\n",
        "model.add(MaxPooling2D(pool_size=(3,3),strides=(2,2)))\n",
        "model.add(BatchNormalization())\n",
        "model.add(Conv2D(384,kernel_size=(3,3),strides=(1,1),padding=\"valid\",activation=\"relu\"))\n",
        "model.add(Conv2D(384,kernel_size=(3,3),strides=(1,1),padding=\"valid\",activation=\"relu\"))\n",
        "model.add(Conv2D(256,kernel_size=(3,3),strides=(1,1),padding=\"valid\",activation=\"relu\"))\n",
        "model.add(MaxPooling2D(pool_size=(3,3),strides=(2,2)))\n",
        "model.add(BatchNormalization())\n",
        "model.add(Flatten())\n",
        "model.add(Dense(4096,activation=\"relu\"))\n",
        "model.add(Dropout(0.4))\n",
        "model.add(BatchNormalization())\n",
        "model.add(Dense(4096,activation=\"relu\"))\n",
        "model.add(Dropout(0.4))\n",
        "model.add(BatchNormalization())\n",
        "model.add(Dense(1000,activation=\"relu\"))\n",
        "model.add(Dropout(0.4))\n",
        "model.add(BatchNormalization())\n",
        "model.add(Dense(18,activation=\"softmax\"))\n",
        "model.compile(loss='categorical_crossentropy', metrics=['accuracy'], optimizer='adam')\n",
        "# this model outputs .22% accuracy"
      ]
    },
    {
      "cell_type": "code",
      "execution_count": null,
      "id": "627204a4",
      "metadata": {
        "id": "627204a4"
      },
      "outputs": [],
      "source": [
        "'''\n",
        "# Modified CNN Model / Outputs .59% accuracy\n",
        "model = Sequential()\n",
        "# First Layer on CNN\n",
        "model.add(Conv2D(48, (3, 3), activation='relu', input_shape=(120,120,3), padding=\"same\"))\n",
        "# Pooling Layer:\n",
        "model.add(MaxPooling2D(pool_size=(3,3)))\n",
        "# Batch Normalization\n",
        "model.add(BatchNormalization())\n",
        "# Second Layer of CNN\n",
        "model.add(Conv2D(128, (3, 3), activation='relu', padding=\"same\"))\n",
        "# Pooling Layer:\n",
        "model.add(MaxPooling2D(pool_size=(3,3)))\n",
        "model.add(Flatten())\n",
        "model.add(Dense(512, activation='relu'))\n",
        "model.add(Dense(4, activation='softmax'))\n",
        "model.compile(loss='categorical_crossentropy', metrics=['accuracy'], optimizer='adam')\n",
        "'''"
      ]
    },
    {
      "cell_type": "code",
      "execution_count": null,
      "id": "5545ed2c",
      "metadata": {
        "id": "5545ed2c"
      },
      "outputs": [],
      "source": [
        "fitted_model = model.fit(X_train, y_train, validation_split=0.25, epochs=20, verbose=1)"
      ]
    },
    {
      "cell_type": "code",
      "execution_count": null,
      "id": "7a11cb91",
      "metadata": {
        "id": "7a11cb91"
      },
      "outputs": [],
      "source": [
        "# summarize history for accuracy\n",
        "plt.plot(fitted_model.history['accuracy'])\n",
        "plt.plot(fitted_model.history['val_accuracy'])\n",
        "plt.title('model accuracy')\n",
        "plt.ylabel('accuracy')\n",
        "plt.xlabel('epoch')\n",
        "plt.legend(['train', 'val'], loc='upper left')\n",
        "plt.show()\n",
        "\n",
        "# summarize history for loss\n",
        "plt.plot(fitted_model.history['loss'])\n",
        "plt.plot(fitted_model.history['val_loss'])\n",
        "plt.title('model loss')\n",
        "plt.ylabel('loss')\n",
        "plt.xlabel('epoch')\n",
        "plt.legend(['train', 'val'], loc='upper left')\n",
        "plt.show()"
      ]
    },
    {
      "cell_type": "code",
      "execution_count": null,
      "id": "ea9e6dd2",
      "metadata": {
        "id": "ea9e6dd2"
      },
      "outputs": [],
      "source": [
        "# Evaluation:\n",
        "score = model.evaluate(X_test, y_test, verbose=1)\n",
        "print('The accuracy is: ', score[1])"
      ]
    },
    {
      "cell_type": "code",
      "execution_count": null,
      "id": "4edfe0b5",
      "metadata": {
        "id": "4edfe0b5"
      },
      "outputs": [],
      "source": [
        "y_predict = model.predict(X_test)"
      ]
    },
    {
      "cell_type": "code",
      "execution_count": null,
      "id": "12fb0fd1",
      "metadata": {
        "id": "12fb0fd1"
      },
      "outputs": [],
      "source": [
        "import re\n",
        "for y, z in zip(y_predict, z_test):\n",
        "    pokemon_name = re.search(r'pokemon(\\D*)', z).group(1)\n",
        "#     print(pokemon_name)\n",
        "    actual_type = type_mapping_reversed[pokemon_type_mapping[pokemon_name]]\n",
        "    predicted_type = type_mapping_reversed[np.argmax(y)]\n",
        "\n",
        "    %matplotlib inline\n",
        "#     i = mpimg.imread(f'images/{z}.jpg')\n",
        "    i = mpimg.imread(f'Scraped-Image-Dataset/{pokemon_name}/{z}')\n",
        "    plt.imshow(i)\n",
        "    plt.show()\n",
        "\n",
        "    print(f'{z} is {actual_type}. model predicted {predicted_type}')"
      ]
    },
    {
      "cell_type": "code",
      "execution_count": null,
      "id": "7a20d341",
      "metadata": {
        "id": "7a20d341"
      },
      "outputs": [],
      "source": []
    },
    {
      "cell_type": "code",
      "execution_count": null,
      "id": "e14cc82c",
      "metadata": {
        "id": "e14cc82c"
      },
      "outputs": [],
      "source": []
    }
  ],
  "metadata": {
    "kernelspec": {
      "display_name": "Python 3",
      "language": "python",
      "name": "python3"
    },
    "language_info": {
      "codemirror_mode": {
        "name": "ipython",
        "version": 3
      },
      "file_extension": ".py",
      "mimetype": "text/x-python",
      "name": "python",
      "nbconvert_exporter": "python",
      "pygments_lexer": "ipython3",
      "version": "3.8.8"
    },
    "colab": {
      "provenance": [],
      "machine_shape": "hm"
    },
    "accelerator": "GPU",
    "gpuClass": "premium"
  },
  "nbformat": 4,
  "nbformat_minor": 5
}